{
 "cells": [
  {
   "cell_type": "code",
   "execution_count": 95,
   "id": "46555e46-28ee-42b1-aa30-1e1e393e7ecb",
   "metadata": {},
   "outputs": [
    {
     "name": "stderr",
     "output_type": "stream",
     "text": [
      "[nltk_data] Downloading package stopwords to\n",
      "[nltk_data]     /Users/michil/nltk_data...\n",
      "[nltk_data]   Package stopwords is already up-to-date!\n",
      "[nltk_data] Downloading package averaged_perceptron_tagger to\n",
      "[nltk_data]     /Users/michil/nltk_data...\n",
      "[nltk_data]   Package averaged_perceptron_tagger is already up-to-\n",
      "[nltk_data]       date!\n"
     ]
    },
    {
     "ename": "AttributeError",
     "evalue": "'list' object has no attribute 'split'",
     "output_type": "error",
     "traceback": [
      "\u001b[0;31m---------------------------------------------------------------------------\u001b[0m",
      "\u001b[0;31mAttributeError\u001b[0m                            Traceback (most recent call last)",
      "Input \u001b[0;32mIn [95]\u001b[0m, in \u001b[0;36m<cell line: 12>\u001b[0;34m()\u001b[0m\n\u001b[1;32m      9\u001b[0m \u001b[38;5;66;03m# First, lets train our bot with some data\u001b[39;00m\n\u001b[1;32m     10\u001b[0m trainer \u001b[38;5;241m=\u001b[39m ChatterBotCorpusTrainer(chatbot)\n\u001b[0;32m---> 12\u001b[0m \u001b[43mtrainer\u001b[49m\u001b[38;5;241;43m.\u001b[39;49m\u001b[43mtrain\u001b[49m\u001b[43m(\u001b[49m\u001b[43m[\u001b[49m\n\u001b[1;32m     13\u001b[0m \u001b[43m    \u001b[49m\u001b[38;5;124;43m'\u001b[39;49m\u001b[38;5;124;43mПривет!\u001b[39;49m\u001b[38;5;124;43m'\u001b[39;49m\u001b[43m,\u001b[49m\n\u001b[1;32m     14\u001b[0m \u001b[43m    \u001b[49m\u001b[38;5;124;43m'\u001b[39;49m\u001b[38;5;124;43mПривет, как дела\u001b[39;49m\u001b[38;5;124;43m'\u001b[39;49m\u001b[43m,\u001b[49m\n\u001b[1;32m     15\u001b[0m \u001b[43m]\u001b[49m\u001b[43m)\u001b[49m\n",
      "File \u001b[0;32m~/.virtualenvs/sdh/lib/python3.8/site-packages/chatterbot/trainers.py:136\u001b[0m, in \u001b[0;36mChatterBotCorpusTrainer.train\u001b[0;34m(self, *corpus_paths)\u001b[0m\n\u001b[1;32m    134\u001b[0m \u001b[38;5;66;03m# Get the paths to each file the bot will be trained with\u001b[39;00m\n\u001b[1;32m    135\u001b[0m \u001b[38;5;28;01mfor\u001b[39;00m corpus_path \u001b[38;5;129;01min\u001b[39;00m corpus_paths:\n\u001b[0;32m--> 136\u001b[0m     data_file_paths\u001b[38;5;241m.\u001b[39mextend(\u001b[43mlist_corpus_files\u001b[49m\u001b[43m(\u001b[49m\u001b[43mcorpus_path\u001b[49m\u001b[43m)\u001b[49m)\n\u001b[1;32m    138\u001b[0m \u001b[38;5;28;01mfor\u001b[39;00m corpus, categories, file_path \u001b[38;5;129;01min\u001b[39;00m load_corpus(\u001b[38;5;241m*\u001b[39mdata_file_paths):\n\u001b[1;32m    140\u001b[0m     statements_to_create \u001b[38;5;241m=\u001b[39m []\n",
      "File \u001b[0;32m~/.virtualenvs/sdh/lib/python3.8/site-packages/chatterbot/corpus.py:45\u001b[0m, in \u001b[0;36mlist_corpus_files\u001b[0;34m(dotted_path)\u001b[0m\n\u001b[1;32m     41\u001b[0m \u001b[38;5;28;01mdef\u001b[39;00m \u001b[38;5;21mlist_corpus_files\u001b[39m(dotted_path):\n\u001b[1;32m     42\u001b[0m     \u001b[38;5;124;03m\"\"\"\u001b[39;00m\n\u001b[1;32m     43\u001b[0m \u001b[38;5;124;03m    Return a list of file paths to each data file in the specified corpus.\u001b[39;00m\n\u001b[1;32m     44\u001b[0m \u001b[38;5;124;03m    \"\"\"\u001b[39;00m\n\u001b[0;32m---> 45\u001b[0m     corpus_path \u001b[38;5;241m=\u001b[39m \u001b[43mget_file_path\u001b[49m\u001b[43m(\u001b[49m\u001b[43mdotted_path\u001b[49m\u001b[43m,\u001b[49m\u001b[43m \u001b[49m\u001b[43mextension\u001b[49m\u001b[38;5;241;43m=\u001b[39;49m\u001b[43mCORPUS_EXTENSION\u001b[49m\u001b[43m)\u001b[49m\n\u001b[1;32m     46\u001b[0m     paths \u001b[38;5;241m=\u001b[39m []\n\u001b[1;32m     48\u001b[0m     \u001b[38;5;28;01mif\u001b[39;00m os\u001b[38;5;241m.\u001b[39mpath\u001b[38;5;241m.\u001b[39misdir(corpus_path):\n",
      "File \u001b[0;32m~/.virtualenvs/sdh/lib/python3.8/site-packages/chatterbot/corpus.py:20\u001b[0m, in \u001b[0;36mget_file_path\u001b[0;34m(dotted_path, extension)\u001b[0m\n\u001b[1;32m     16\u001b[0m \u001b[38;5;28;01mif\u001b[39;00m os\u001b[38;5;241m.\u001b[39msep \u001b[38;5;129;01min\u001b[39;00m dotted_path \u001b[38;5;129;01mor\u001b[39;00m \u001b[38;5;124m'\u001b[39m\u001b[38;5;124m/\u001b[39m\u001b[38;5;124m'\u001b[39m \u001b[38;5;129;01min\u001b[39;00m dotted_path:\n\u001b[1;32m     17\u001b[0m     \u001b[38;5;66;03m# Assume the path is a valid file path\u001b[39;00m\n\u001b[1;32m     18\u001b[0m     \u001b[38;5;28;01mreturn\u001b[39;00m dotted_path\n\u001b[0;32m---> 20\u001b[0m parts \u001b[38;5;241m=\u001b[39m \u001b[43mdotted_path\u001b[49m\u001b[38;5;241;43m.\u001b[39;49m\u001b[43msplit\u001b[49m(\u001b[38;5;124m'\u001b[39m\u001b[38;5;124m.\u001b[39m\u001b[38;5;124m'\u001b[39m)\n\u001b[1;32m     21\u001b[0m \u001b[38;5;28;01mif\u001b[39;00m parts[\u001b[38;5;241m0\u001b[39m] \u001b[38;5;241m==\u001b[39m \u001b[38;5;124m'\u001b[39m\u001b[38;5;124mchatterbot\u001b[39m\u001b[38;5;124m'\u001b[39m:\n\u001b[1;32m     22\u001b[0m     parts\u001b[38;5;241m.\u001b[39mpop(\u001b[38;5;241m0\u001b[39m)\n",
      "\u001b[0;31mAttributeError\u001b[0m: 'list' object has no attribute 'split'"
     ]
    }
   ],
   "source": [
    "from chatterbot import ChatBot\n",
    "from chatterbot.trainers import ChatterBotCorpusTrainer\n",
    "\n",
    "chatbot = ChatBot(\n",
    "    'Example Bot',\n",
    "    language='RUS'\n",
    ")\n",
    "\n",
    "# First, lets train our bot with some data\n",
    "trainer = ChatterBotCorpusTrainer(chatbot)\n",
    "\n",
    "trainer.train([\n",
    "    'Привет!',\n",
    "    'Привет, как дела',\n",
    "])"
   ]
  },
  {
   "cell_type": "code",
   "execution_count": 93,
   "id": "c2af0dcb-d3b4-40b0-abbd-1c72e2dfcf8b",
   "metadata": {},
   "outputs": [],
   "source": [
    "response = chatbot.get_response('Привет!')"
   ]
  },
  {
   "cell_type": "code",
   "execution_count": 94,
   "id": "5810ec22-1c70-492b-a2b5-55768e46f87e",
   "metadata": {},
   "outputs": [
    {
     "name": "stdout",
     "output_type": "stream",
     "text": [
      "Привет\n"
     ]
    }
   ],
   "source": [
    "print(response)"
   ]
  },
  {
   "cell_type": "code",
   "execution_count": null,
   "id": "7f07aba5-ad90-4e71-9c91-9f52436e29eb",
   "metadata": {},
   "outputs": [],
   "source": []
  }
 ],
 "metadata": {
  "kernelspec": {
   "display_name": "Python 3 (ipykernel)",
   "language": "python",
   "name": "python3"
  },
  "language_info": {
   "codemirror_mode": {
    "name": "ipython",
    "version": 3
   },
   "file_extension": ".py",
   "mimetype": "text/x-python",
   "name": "python",
   "nbconvert_exporter": "python",
   "pygments_lexer": "ipython3",
   "version": "3.8.2"
  }
 },
 "nbformat": 4,
 "nbformat_minor": 5
}
