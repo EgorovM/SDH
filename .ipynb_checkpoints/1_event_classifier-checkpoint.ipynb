{
 "cells": [
  {
   "cell_type": "code",
   "execution_count": 3,
   "id": "dff3cffa-b6e3-4a1c-9b2a-c65badb4b480",
   "metadata": {},
   "outputs": [],
   "source": [
    "import pandas as pd\n",
    "import numpy as np"
   ]
  },
  {
   "cell_type": "code",
   "execution_count": 10,
   "id": "f912dc86-8b07-4147-ba5f-857b9cde6429",
   "metadata": {},
   "outputs": [],
   "source": [
    "df = pd.read_csv('data/dataset.csv', sep=';')"
   ]
  },
  {
   "cell_type": "code",
   "execution_count": 35,
   "id": "d73034d8-e1c7-4ea9-a272-d63968b889da",
   "metadata": {},
   "outputs": [],
   "source": [
    "event_classifier = EventClassifier()"
   ]
  },
  {
   "cell_type": "code",
   "execution_count": 36,
   "id": "311e0b1c-a248-476c-a88b-46e3fb38babb",
   "metadata": {},
   "outputs": [],
   "source": [
    "event_classifier.add_replicas(df['реплика'], df['класс'])"
   ]
  },
  {
   "cell_type": "code",
   "execution_count": null,
   "id": "496762c7-a8ff-4315-9380-e77f271650a3",
   "metadata": {},
   "outputs": [],
   "source": []
  }
 ],
 "metadata": {
  "kernelspec": {
   "display_name": "Python 3 (ipykernel)",
   "language": "python",
   "name": "python3"
  },
  "language_info": {
   "codemirror_mode": {
    "name": "ipython",
    "version": 3
   },
   "file_extension": ".py",
   "mimetype": "text/x-python",
   "name": "python",
   "nbconvert_exporter": "python",
   "pygments_lexer": "ipython3",
   "version": "3.8.2"
  }
 },
 "nbformat": 4,
 "nbformat_minor": 5
}
