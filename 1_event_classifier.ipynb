{
 "cells": [
  {
   "cell_type": "code",
   "execution_count": 1,
   "id": "dff3cffa-b6e3-4a1c-9b2a-c65badb4b480",
   "metadata": {},
   "outputs": [],
   "source": [
    "import pandas as pd\n",
    "import numpy as np"
   ]
  },
  {
   "cell_type": "code",
   "execution_count": 2,
   "id": "f912dc86-8b07-4147-ba5f-857b9cde6429",
   "metadata": {},
   "outputs": [],
   "source": [
    "df = pd.read_csv('data/dataset.csv', sep=';')"
   ]
  },
  {
   "cell_type": "code",
   "execution_count": 3,
   "id": "d73034d8-e1c7-4ea9-a272-d63968b889da",
   "metadata": {},
   "outputs": [
    {
     "ename": "NameError",
     "evalue": "name 'EventClassifier' is not defined",
     "output_type": "error",
     "traceback": [
      "\u001B[0;31m---------------------------------------------------------------------------\u001B[0m",
      "\u001B[0;31mNameError\u001B[0m                                 Traceback (most recent call last)",
      "\u001B[0;32m/var/folders/yb/ysqh2wxs6v1_4q_92fnn6q380000gn/T/ipykernel_22064/1811510613.py\u001B[0m in \u001B[0;36m<module>\u001B[0;34m\u001B[0m\n\u001B[0;32m----> 1\u001B[0;31m \u001B[0mevent_classifier\u001B[0m \u001B[0;34m=\u001B[0m \u001B[0mEventClassifier\u001B[0m\u001B[0;34m(\u001B[0m\u001B[0;34m)\u001B[0m\u001B[0;34m\u001B[0m\u001B[0;34m\u001B[0m\u001B[0m\n\u001B[0m\u001B[1;32m      2\u001B[0m \u001B[0;34m\u001B[0m\u001B[0m\n",
      "\u001B[0;31mNameError\u001B[0m: name 'EventClassifier' is not defined"
     ]
    }
   ],
   "source": [
    "event_classifier = EventClassifier()"
   ]
  },
  {
   "cell_type": "code",
   "execution_count": null,
   "id": "311e0b1c-a248-476c-a88b-46e3fb38babb",
   "metadata": {},
   "outputs": [],
   "source": [
    "event_classifier.add_replicas(df['реплика'], df['класс'])"
   ]
  },
  {
   "cell_type": "code",
   "execution_count": null,
   "id": "496762c7-a8ff-4315-9380-e77f271650a3",
   "metadata": {},
   "outputs": [],
   "source": []
  }
 ],
 "metadata": {
  "kernelspec": {
   "display_name": "Python 3 (ipykernel)",
   "language": "python",
   "name": "python3"
  },
  "language_info": {
   "codemirror_mode": {
    "name": "ipython",
    "version": 3
   },
   "file_extension": ".py",
   "mimetype": "text/x-python",
   "name": "python",
   "nbconvert_exporter": "python",
   "pygments_lexer": "ipython3",
   "version": "3.8.2"
  }
 },
 "nbformat": 4,
 "nbformat_minor": 5
}